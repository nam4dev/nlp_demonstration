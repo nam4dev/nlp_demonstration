{
  "nbformat": 4,
  "nbformat_minor": 0,
  "metadata": {
    "colab": {
      "name": "one_hot_encoding_demonstration",
      "provenance": [],
      "collapsed_sections": [],
      "include_colab_link": true
    },
    "kernelspec": {
      "name": "python3",
      "display_name": "Python 3"
    }
  },
  "cells": [
    {
      "cell_type": "markdown",
      "metadata": {
        "id": "view-in-github",
        "colab_type": "text"
      },
      "source": [
        "<a href=\"https://colab.research.google.com/github/nam4dev/nlp_demonstration/blob/master/one_hot_encoding_demonstration.ipynb\" target=\"_parent\"><img src=\"https://colab.research.google.com/assets/colab-badge.svg\" alt=\"Open In Colab\"/></a>"
      ]
    },
    {
      "cell_type": "markdown",
      "metadata": {
        "id": "wFSV7pQSlJSC",
        "colab_type": "text"
      },
      "source": [
        "One-Hot Encoding Demonstration"
      ]
    },
    {
      "cell_type": "code",
      "metadata": {
        "id": "Rnn9KRKWkyo1",
        "colab_type": "code",
        "colab": {}
      },
      "source": [
        "# Import data manipulation library: pandas\n",
        "import pandas as pd"
      ],
      "execution_count": 0,
      "outputs": []
    },
    {
      "cell_type": "markdown",
      "metadata": {
        "id": "IjWy_C02lZ0-",
        "colab_type": "text"
      },
      "source": [
        "Create a dataframe with pandas to demonstrate One-Hot encoding concept"
      ]
    },
    {
      "cell_type": "code",
      "metadata": {
        "id": "BvgDqI6o8_-I",
        "colab_type": "code",
        "colab": {}
      },
      "source": [
        "import json\n",
        "import random"
      ],
      "execution_count": 0,
      "outputs": []
    },
    {
      "cell_type": "code",
      "metadata": {
        "id": "hlNWx79Ull6Y",
        "colab_type": "code",
        "outputId": "4bb9445e-e8a2-419b-f6ca-68ea3b707a0a",
        "colab": {
          "base_uri": "https://localhost:8080/",
          "height": 545
        }
      },
      "source": [
        "data = {\n",
        "    'gender': [['male', 'female'][random.randint(0, 1)] \n",
        "    for _ in range(25)]\n",
        "}\n",
        "\n",
        "print('Generated data', json.dumps(data, indent=4))"
      ],
      "execution_count": 0,
      "outputs": [
        {
          "output_type": "stream",
          "text": [
            "Generated data {\n",
            "    \"gender\": [\n",
            "        \"male\",\n",
            "        \"male\",\n",
            "        \"female\",\n",
            "        \"female\",\n",
            "        \"male\",\n",
            "        \"male\",\n",
            "        \"female\",\n",
            "        \"female\",\n",
            "        \"male\",\n",
            "        \"female\",\n",
            "        \"female\",\n",
            "        \"female\",\n",
            "        \"male\",\n",
            "        \"female\",\n",
            "        \"female\",\n",
            "        \"female\",\n",
            "        \"male\",\n",
            "        \"female\",\n",
            "        \"male\",\n",
            "        \"male\",\n",
            "        \"female\",\n",
            "        \"female\",\n",
            "        \"male\",\n",
            "        \"female\",\n",
            "        \"female\"\n",
            "    ]\n",
            "}\n"
          ],
          "name": "stdout"
        }
      ]
    },
    {
      "cell_type": "code",
      "metadata": {
        "id": "KacV_Z4BICnK",
        "colab_type": "code",
        "outputId": "82423957-cf62-4c82-812e-229f57a4cc84",
        "colab": {
          "base_uri": "https://localhost:8080/",
          "height": 163
        }
      },
      "source": [
        "dataframe = pd.DataFrame(data=data)\n",
        "\n",
        "# Print first five rows of dataframe\n",
        "print(dataframe.head())\n",
        "print()\n",
        "\n",
        "# Print the features of dataframe\n",
        "print(dataframe.columns)\n"
      ],
      "execution_count": 0,
      "outputs": [
        {
          "output_type": "stream",
          "text": [
            "   gender\n",
            "0    male\n",
            "1    male\n",
            "2  female\n",
            "3  female\n",
            "4    male\n",
            "\n",
            "Index(['gender'], dtype='object')\n"
          ],
          "name": "stdout"
        }
      ]
    },
    {
      "cell_type": "code",
      "metadata": {
        "id": "r46AyKNWIJUT",
        "colab_type": "code",
        "outputId": "8d0cff67-eaeb-4b12-fe27-d81a86ec5346",
        "colab": {
          "base_uri": "https://localhost:8080/",
          "height": 163
        }
      },
      "source": [
        "# Perform one-hot encoding\n",
        "oh_dataframe = pd.get_dummies(dataframe, columns=['gender'])\n",
        "\n",
        "# Print the new features of dataframe\n",
        "print(oh_dataframe.columns)\n",
        "print()\n",
        "\n",
        "# Print first five rows of dataframe\n",
        "print(oh_dataframe.head())"
      ],
      "execution_count": 0,
      "outputs": [
        {
          "output_type": "stream",
          "text": [
            "Index(['gender_female', 'gender_male'], dtype='object')\n",
            "\n",
            "   gender_female  gender_male\n",
            "0              0            1\n",
            "1              0            1\n",
            "2              1            0\n",
            "3              1            0\n",
            "4              0            1\n"
          ],
          "name": "stdout"
        }
      ]
    }
  ]
}