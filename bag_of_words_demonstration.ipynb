{
  "nbformat": 4,
  "nbformat_minor": 0,
  "metadata": {
    "colab": {
      "name": "bag_of_words_demonstration.ipynb",
      "provenance": [],
      "collapsed_sections": [],
      "include_colab_link": true
    },
    "kernelspec": {
      "name": "python3",
      "display_name": "Python 3"
    }
  },
  "cells": [
    {
      "cell_type": "markdown",
      "metadata": {
        "id": "view-in-github",
        "colab_type": "text"
      },
      "source": [
        "<a href=\"https://colab.research.google.com/github/nam4dev/nlp_demonstration/blob/master/bag_of_words_demonstration.ipynb\" target=\"_parent\"><img src=\"https://colab.research.google.com/assets/colab-badge.svg\" alt=\"Open In Colab\"/></a>"
      ]
    },
    {
      "cell_type": "markdown",
      "metadata": {
        "id": "pTYc_xATtaht",
        "colab_type": "text"
      },
      "source": [
        "Sentiment Classifier using Bag of Words (BoW) techniques"
      ]
    },
    {
      "cell_type": "code",
      "metadata": {
        "id": "Fyhmfm0zfr9-",
        "colab_type": "code",
        "colab": {}
      },
      "source": [
        "import json\n",
        "# Import pandas\n",
        "import pandas as pd\n",
        "# Import CountVectorizer from scikit learn\n",
        "from sklearn.feature_extraction.text import CountVectorizer"
      ],
      "execution_count": 0,
      "outputs": []
    },
    {
      "cell_type": "code",
      "metadata": {
        "id": "F3kAgW0ToqGK",
        "colab_type": "code",
        "colab": {}
      },
      "source": [
        "with open('movie_reviews_test.json') as fd:\n",
        "  test_data = json.load(fd)\n",
        "\n",
        "with open('movie_reviews_train.json') as fd:\n",
        "  train_data = json.load(fd)\n",
        "\n",
        "test_reviews = test_data['reviews']\n",
        "train_reviews = train_data['reviews']"
      ],
      "execution_count": 0,
      "outputs": []
    },
    {
      "cell_type": "code",
      "metadata": {
        "id": "hMEZwSzPfv4g",
        "colab_type": "code",
        "colab": {}
      },
      "source": [
        "test_df = pd.DataFrame(test_reviews, columns =['reviews', 'sentiment'])\n",
        "train_df = pd.DataFrame(train_reviews, columns =['reviews', 'sentiment'])\n",
        "\n",
        "X_test = test_df['reviews']\n",
        "X_train = train_df['reviews']"
      ],
      "execution_count": 0,
      "outputs": []
    },
    {
      "cell_type": "code",
      "metadata": {
        "id": "62UtxpaTs63Z",
        "colab_type": "code",
        "colab": {}
      },
      "source": [
        "print('Training materials')\n",
        "print(X_train.shape)\n",
        "print(X_train.head(10))"
      ],
      "execution_count": 0,
      "outputs": []
    },
    {
      "cell_type": "code",
      "metadata": {
        "id": "F2YXGg77tCjD",
        "colab_type": "code",
        "colab": {}
      },
      "source": [
        "print('Testing materials')\n",
        "print(X_test.shape)\n",
        "print(X_test.head(10))"
      ],
      "execution_count": 0,
      "outputs": []
    },
    {
      "cell_type": "code",
      "metadata": {
        "id": "Bq5751PBfxla",
        "colab_type": "code",
        "colab": {}
      },
      "source": [
        "# Create a CountVectorizer instance\n",
        "vectorizer = CountVectorizer(stop_words='english')\n",
        "\n",
        "# Fit and transform training materials\n",
        "X_train_bow = vectorizer.fit_transform(X_train)\n",
        "\n",
        "# Transform testing materials\n",
        "X_test_bow = vectorizer.transform(X_test)"
      ],
      "execution_count": 0,
      "outputs": []
    },
    {
      "cell_type": "code",
      "metadata": {
        "id": "t-Ky3PAekBhA",
        "colab_type": "code",
        "colab": {}
      },
      "source": [
        "from sklearn.naive_bayes import MultinomialNB"
      ],
      "execution_count": 0,
      "outputs": []
    },
    {
      "cell_type": "code",
      "metadata": {
        "id": "0zdVh3LvlCmz",
        "colab_type": "code",
        "colab": {}
      },
      "source": [
        "y_test = test_df['sentiment']\n",
        "y_train = train_df['sentiment']"
      ],
      "execution_count": 0,
      "outputs": []
    },
    {
      "cell_type": "code",
      "metadata": {
        "id": "O1vNbkhUkN4z",
        "colab_type": "code",
        "colab": {}
      },
      "source": [
        "# Create a MultinomialNB instance\n",
        "clf = MultinomialNB()\n",
        "\n",
        "# Fit the classifier\n",
        "clf.fit(X_train_bow, y_train)\n",
        "\n",
        "# Measure accuracy of the trained model\n",
        "accuracy = clf.score(X_test_bow, y_test)\n",
        "print(\"The classifier accuracy on the test set is %.4f\" % accuracy)\n",
        "\n",
        "# Predict the sentiment of some reviews\n",
        "for (review, expected) in (\n",
        "    (\"The movie was terrible. The music was underwhelming and the acting mediocre.\", 0),\n",
        "    (\"The movie was great! The music was overwhelming. Really nice!\", 1),\n",
        "    (\"The movie was not so good, even pretty bad :( Actors were not brillant.\", 0),\n",
        "):\n",
        "  prediction = clf.predict(vectorizer.transform([review]))[0]\n",
        "  print(\"The sentiment predicted by the classifier is %i (expected %i)\" % (prediction, expected))"
      ],
      "execution_count": 0,
      "outputs": []
    }
  ]
}